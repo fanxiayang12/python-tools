{
 "cells": [
  {
   "cell_type": "code",
   "execution_count": 1,
   "metadata": {},
   "outputs": [],
   "source": [
    "from pymongo import MongoClient"
   ]
  },
  {
   "cell_type": "code",
   "execution_count": 2,
   "metadata": {},
   "outputs": [],
   "source": [
    "client = MongoClient(\"mongodb://10.10.10.46:20000/\")"
   ]
  },
  {
   "cell_type": "code",
   "execution_count": 3,
   "metadata": {},
   "outputs": [],
   "source": [
    "db = client.demo_docs"
   ]
  },
  {
   "cell_type": "code",
   "execution_count": 62,
   "metadata": {},
   "outputs": [],
   "source": [
    "doc_info = db.doc_info"
   ]
  },
  {
   "cell_type": "code",
   "execution_count": 4,
   "metadata": {},
   "outputs": [],
   "source": [
    "patient_basic_info = db.patient_basic_info"
   ]
  },
  {
   "cell_type": "code",
   "execution_count": 5,
   "metadata": {},
   "outputs": [],
   "source": [
    "demo_xinshuai = client.demo_xinshuai_201803241749"
   ]
  },
  {
   "cell_type": "code",
   "execution_count": 6,
   "metadata": {},
   "outputs": [],
   "source": [
    "patient_medical_history = demo_xinshuai['patient_medical_history']"
   ]
  },
  {
   "cell_type": "code",
   "execution_count": 7,
   "metadata": {},
   "outputs": [],
   "source": [
    "filter = {'toReport':'是','$or':[{'_delete':{'$exists':False}},{'_delete':False}]}"
   ]
  },
  {
   "cell_type": "code",
   "execution_count": 8,
   "metadata": {},
   "outputs": [
    {
     "data": {
      "text/plain": [
       "119014"
      ]
     },
     "execution_count": 8,
     "metadata": {},
     "output_type": "execute_result"
    }
   ],
   "source": [
    "patient_medical_history.count_documents(filter)\n",
    "# 上报患者数目"
   ]
  },
  {
   "cell_type": "code",
   "execution_count": 15,
   "metadata": {},
   "outputs": [],
   "source": [
    "import pandas as pd"
   ]
  },
  {
   "cell_type": "code",
   "execution_count": 61,
   "metadata": {},
   "outputs": [
    {
     "data": {
      "text/html": [
       "<div>\n",
       "<style scoped>\n",
       "    .dataframe tbody tr th:only-of-type {\n",
       "        vertical-align: middle;\n",
       "    }\n",
       "\n",
       "    .dataframe tbody tr th {\n",
       "        vertical-align: top;\n",
       "    }\n",
       "\n",
       "    .dataframe thead th {\n",
       "        text-align: right;\n",
       "    }\n",
       "</style>\n",
       "<table border=\"1\" class=\"dataframe\">\n",
       "  <thead>\n",
       "    <tr style=\"text-align: right;\">\n",
       "      <th></th>\n",
       "      <th>patientId</th>\n",
       "      <th>hospitalId</th>\n",
       "    </tr>\n",
       "  </thead>\n",
       "  <tbody>\n",
       "    <tr>\n",
       "      <th>0</th>\n",
       "      <td>23f47cb1-efaf-11e7-ae39-53ece1750c11</td>\n",
       "      <td>NaN</td>\n",
       "    </tr>\n",
       "    <tr>\n",
       "      <th>1</th>\n",
       "      <td>292eaed0-efaf-11e7-ae39-53ece1750c11</td>\n",
       "      <td>NaN</td>\n",
       "    </tr>\n",
       "    <tr>\n",
       "      <th>2</th>\n",
       "      <td>2fadbd01-efaf-11e7-8fb4-0ba8851511e3</td>\n",
       "      <td>NaN</td>\n",
       "    </tr>\n",
       "    <tr>\n",
       "      <th>3</th>\n",
       "      <td>5c456a41-c46a-11e7-93ca-d39b9bc884de</td>\n",
       "      <td>NaN</td>\n",
       "    </tr>\n",
       "    <tr>\n",
       "      <th>4</th>\n",
       "      <td>4c6c8f91-c46a-11e7-8534-c51051c27839</td>\n",
       "      <td>NaN</td>\n",
       "    </tr>\n",
       "  </tbody>\n",
       "</table>\n",
       "</div>"
      ],
      "text/plain": [
       "                              patientId  hospitalId\n",
       "0  23f47cb1-efaf-11e7-ae39-53ece1750c11         NaN\n",
       "1  292eaed0-efaf-11e7-ae39-53ece1750c11         NaN\n",
       "2  2fadbd01-efaf-11e7-8fb4-0ba8851511e3         NaN\n",
       "3  5c456a41-c46a-11e7-93ca-d39b9bc884de         NaN\n",
       "4  4c6c8f91-c46a-11e7-8534-c51051c27839         NaN"
      ]
     },
     "execution_count": 61,
     "metadata": {},
     "output_type": "execute_result"
    }
   ],
   "source": [
    "# 所以上报患者ID\n",
    "patient_df = pd.DataFrame(list(patient_medical_history.find(filter,{'_id':0,'patientId':1})))\n",
    "patient_df.head()"
   ]
  },
  {
   "cell_type": "code",
   "execution_count": null,
   "metadata": {},
   "outputs": [],
   "source": []
  },
  {
   "cell_type": "code",
   "execution_count": 40,
   "metadata": {},
   "outputs": [
    {
     "data": {
      "text/plain": [
       "patientId    119014\n",
       "dtype: int64"
      ]
     },
     "execution_count": 40,
     "metadata": {},
     "output_type": "execute_result"
    }
   ],
   "source": [
    "patient_df.count()"
   ]
  },
  {
   "cell_type": "code",
   "execution_count": 38,
   "metadata": {},
   "outputs": [],
   "source": [
    "patient_df.to_csv('心衰上报患者ID.csv')"
   ]
  },
  {
   "cell_type": "code",
   "execution_count": 26,
   "metadata": {},
   "outputs": [
    {
     "data": {
      "text/plain": [
       "0         23f47cb1-efaf-11e7-ae39-53ece1750c11\n",
       "1         292eaed0-efaf-11e7-ae39-53ece1750c11\n",
       "2         2fadbd01-efaf-11e7-8fb4-0ba8851511e3\n",
       "3         5c456a41-c46a-11e7-93ca-d39b9bc884de\n",
       "4         4c6c8f91-c46a-11e7-8534-c51051c27839\n",
       "                          ...                 \n",
       "119009        cd403ebd8bf15e0c1dfef66a1d766068\n",
       "119010        3341039269c7d350563f376e22566c25\n",
       "119011        9385768f18a7918c095383cb1e2239a9\n",
       "119012        4f90190d8c82f29aa019dbb075016e10\n",
       "119013        4164b5a89cdc271bf17936fc933e28bd\n",
       "Name: patientId, Length: 119014, dtype: object"
      ]
     },
     "execution_count": 26,
     "metadata": {},
     "output_type": "execute_result"
    }
   ],
   "source": [
    "patient_df.iloc[:,0]"
   ]
  },
  {
   "cell_type": "code",
   "execution_count": 32,
   "metadata": {},
   "outputs": [],
   "source": [
    "patient_filter = {'patientId':{'$in':patient_df.iloc[:,0].values.tolist()}}"
   ]
  },
  {
   "cell_type": "code",
   "execution_count": 44,
   "metadata": {},
   "outputs": [
    {
     "data": {
      "text/html": [
       "<div>\n",
       "<style scoped>\n",
       "    .dataframe tbody tr th:only-of-type {\n",
       "        vertical-align: middle;\n",
       "    }\n",
       "\n",
       "    .dataframe tbody tr th {\n",
       "        vertical-align: top;\n",
       "    }\n",
       "\n",
       "    .dataframe thead th {\n",
       "        text-align: right;\n",
       "    }\n",
       "</style>\n",
       "<table border=\"1\" class=\"dataframe\">\n",
       "  <thead>\n",
       "    <tr style=\"text-align: right;\">\n",
       "      <th></th>\n",
       "      <th>_id</th>\n",
       "      <th>patientBasicInfoPatientUserName</th>\n",
       "      <th>patientBasicInfoIdCard</th>\n",
       "      <th>patientBasicInfoGender</th>\n",
       "      <th>patientBasicInfoBirthday</th>\n",
       "      <th>patientId</th>\n",
       "    </tr>\n",
       "  </thead>\n",
       "  <tbody>\n",
       "    <tr>\n",
       "      <th>0</th>\n",
       "      <td>00009f2317d433c50aea0c6840327e52</td>\n",
       "      <td>df845cde3f03d547a651550ef24a1761</td>\n",
       "      <td>f67b341df6ad415c1dd13da46ba8579a</td>\n",
       "      <td>男</td>\n",
       "      <td>-820396800000.0</td>\n",
       "      <td>00009f2317d433c50aea0c6840327e52</td>\n",
       "    </tr>\n",
       "    <tr>\n",
       "      <th>1</th>\n",
       "      <td>0000fbc3bc845017df1c05471abc7445</td>\n",
       "      <td>3456e3e823376d3cdfad3dcd6eea373a</td>\n",
       "      <td>bfde2147bc725dd40762109bec1eba13</td>\n",
       "      <td>男</td>\n",
       "      <td>-750240000000.0</td>\n",
       "      <td>0000fbc3bc845017df1c05471abc7445</td>\n",
       "    </tr>\n",
       "    <tr>\n",
       "      <th>2</th>\n",
       "      <td>0001491d8a76be51aafcd0ae94250098</td>\n",
       "      <td>026a85fa600b04b6230ed82ec910117e</td>\n",
       "      <td>11ea8159cb60cc5b0b149ac83f256640</td>\n",
       "      <td>男</td>\n",
       "      <td>-354614400000.0</td>\n",
       "      <td>0001491d8a76be51aafcd0ae94250098</td>\n",
       "    </tr>\n",
       "    <tr>\n",
       "      <th>3</th>\n",
       "      <td>00018741-f773-11e8-8a19-e1b86dde47c7</td>\n",
       "      <td>4d5275b6088baa974cf63891ab6c6ec6</td>\n",
       "      <td>a379b2c8175e78b93a58a4dc91cbf88b</td>\n",
       "      <td>男</td>\n",
       "      <td>-378115200000.0</td>\n",
       "      <td>00018741-f773-11e8-8a19-e1b86dde47c7</td>\n",
       "    </tr>\n",
       "    <tr>\n",
       "      <th>4</th>\n",
       "      <td>00024a007dc0dad6a19e990ed1fe9e22</td>\n",
       "      <td>1cc45584c6d15bca0011556f56b704bc</td>\n",
       "      <td>4b593047923b26a7dfc1ff629364d35c</td>\n",
       "      <td>女</td>\n",
       "      <td>-981187200000.0</td>\n",
       "      <td>00024a007dc0dad6a19e990ed1fe9e22</td>\n",
       "    </tr>\n",
       "  </tbody>\n",
       "</table>\n",
       "</div>"
      ],
      "text/plain": [
       "                                    _id   patientBasicInfoPatientUserName  \\\n",
       "0      00009f2317d433c50aea0c6840327e52  df845cde3f03d547a651550ef24a1761   \n",
       "1      0000fbc3bc845017df1c05471abc7445  3456e3e823376d3cdfad3dcd6eea373a   \n",
       "2      0001491d8a76be51aafcd0ae94250098  026a85fa600b04b6230ed82ec910117e   \n",
       "3  00018741-f773-11e8-8a19-e1b86dde47c7  4d5275b6088baa974cf63891ab6c6ec6   \n",
       "4      00024a007dc0dad6a19e990ed1fe9e22  1cc45584c6d15bca0011556f56b704bc   \n",
       "\n",
       "             patientBasicInfoIdCard patientBasicInfoGender  \\\n",
       "0  f67b341df6ad415c1dd13da46ba8579a                      男   \n",
       "1  bfde2147bc725dd40762109bec1eba13                      男   \n",
       "2  11ea8159cb60cc5b0b149ac83f256640                      男   \n",
       "3  a379b2c8175e78b93a58a4dc91cbf88b                      男   \n",
       "4  4b593047923b26a7dfc1ff629364d35c                      女   \n",
       "\n",
       "  patientBasicInfoBirthday                             patientId  \n",
       "0          -820396800000.0      00009f2317d433c50aea0c6840327e52  \n",
       "1          -750240000000.0      0000fbc3bc845017df1c05471abc7445  \n",
       "2          -354614400000.0      0001491d8a76be51aafcd0ae94250098  \n",
       "3          -378115200000.0  00018741-f773-11e8-8a19-e1b86dde47c7  \n",
       "4          -981187200000.0      00024a007dc0dad6a19e990ed1fe9e22  "
      ]
     },
     "execution_count": 44,
     "metadata": {},
     "output_type": "execute_result"
    }
   ],
   "source": [
    "patient_pd = pd.DataFrame(list(patient_basic_info.find(patient_filter,{'patientId':1,'patientBasicInfoIdCard':1,'patientBasicInfoPatientUserName':1,'patientBasicInfoGender':1,'patientBasicInfoBirthday':1})),dtype=str)\n",
    "patient_pd.head()"
   ]
  },
  {
   "cell_type": "code",
   "execution_count": 73,
   "metadata": {},
   "outputs": [
    {
     "data": {
      "text/html": [
       "<div>\n",
       "<style scoped>\n",
       "    .dataframe tbody tr th:only-of-type {\n",
       "        vertical-align: middle;\n",
       "    }\n",
       "\n",
       "    .dataframe tbody tr th {\n",
       "        vertical-align: top;\n",
       "    }\n",
       "\n",
       "    .dataframe thead th {\n",
       "        text-align: right;\n",
       "    }\n",
       "</style>\n",
       "<table border=\"1\" class=\"dataframe\">\n",
       "  <thead>\n",
       "    <tr style=\"text-align: right;\">\n",
       "      <th></th>\n",
       "      <th>_id</th>\n",
       "      <th>oldHistoryId</th>\n",
       "      <th>globalPatientId</th>\n",
       "      <th>globalHistoryId</th>\n",
       "      <th>diseaseId</th>\n",
       "      <th>hospitalId</th>\n",
       "      <th>deptId</th>\n",
       "      <th>historyId</th>\n",
       "      <th>sourceCode</th>\n",
       "      <th>sourceId</th>\n",
       "      <th>...</th>\n",
       "      <th>diseaseName</th>\n",
       "      <th>oldPatientId</th>\n",
       "      <th>cur_es</th>\n",
       "      <th>diseaseCode</th>\n",
       "      <th>maxs</th>\n",
       "      <th>_verify</th>\n",
       "      <th>patientBasicInfoTelNumber</th>\n",
       "      <th>_delete</th>\n",
       "      <th>rc4</th>\n",
       "      <th>doctorId</th>\n",
       "    </tr>\n",
       "  </thead>\n",
       "  <tbody>\n",
       "    <tr>\n",
       "      <th>0</th>\n",
       "      <td>55ab2cd1-1024-11ea-a7d9-d1a8c1532bf1</td>\n",
       "      <td>72fdec75018711e99d03509a4c82024b</td>\n",
       "      <td>00009f2317d433c50aea0c6840327e52</td>\n",
       "      <td>d7693d04bb65e9cfa3c50891f76ca204</td>\n",
       "      <td>47</td>\n",
       "      <td>262</td>\n",
       "      <td>1</td>\n",
       "      <td>0737bf41-b2a6-11e9-bfc1-1d5141e92ecf</td>\n",
       "      <td>tbxt</td>\n",
       "      <td>72fdec75018711e99d03509a4c82024b</td>\n",
       "      <td>...</td>\n",
       "      <td>中国心衰中心数据填报平台</td>\n",
       "      <td>NaN</td>\n",
       "      <td>NaN</td>\n",
       "      <td>NaN</td>\n",
       "      <td>NaN</td>\n",
       "      <td>NaN</td>\n",
       "      <td>NaN</td>\n",
       "      <td>NaN</td>\n",
       "      <td>NaN</td>\n",
       "      <td>NaN</td>\n",
       "    </tr>\n",
       "    <tr>\n",
       "      <th>1</th>\n",
       "      <td>0ffc7580-86a5-11e9-affe-8d50ca0b1a6b</td>\n",
       "      <td>87388a71ef4111e8b9c4509a4c868a0c</td>\n",
       "      <td>0000fbc3bc845017df1c05471abc7445</td>\n",
       "      <td>b2748d869dd7bc8bf1f1001e2960bca1</td>\n",
       "      <td>47</td>\n",
       "      <td>618</td>\n",
       "      <td>1</td>\n",
       "      <td>b2748d869dd7bc8bf1f1001e2960bca1</td>\n",
       "      <td>etl</td>\n",
       "      <td>87388a71ef4111e8b9c4509a4c868a0c</td>\n",
       "      <td>...</td>\n",
       "      <td>中国心衰中心数据填报平台</td>\n",
       "      <td>87323ebbef4111e8b9c4509a4c868a0c</td>\n",
       "      <td>NaN</td>\n",
       "      <td>NaN</td>\n",
       "      <td>NaN</td>\n",
       "      <td>NaN</td>\n",
       "      <td>NaN</td>\n",
       "      <td>NaN</td>\n",
       "      <td>NaN</td>\n",
       "      <td>NaN</td>\n",
       "    </tr>\n",
       "    <tr>\n",
       "      <th>2</th>\n",
       "      <td>267f3ef1-86a5-11e9-affe-8d50ca0b1a6b</td>\n",
       "      <td>9127ac2811d411e9b99a509a4c868a0c</td>\n",
       "      <td>0000fbc3bc845017df1c05471abc7445</td>\n",
       "      <td>2d07ed4d6f95218256f5c43f9a868e4a</td>\n",
       "      <td>47</td>\n",
       "      <td>618</td>\n",
       "      <td>1</td>\n",
       "      <td>2d07ed4d6f95218256f5c43f9a868e4a</td>\n",
       "      <td>etl</td>\n",
       "      <td>9127ac2811d411e9b99a509a4c868a0c</td>\n",
       "      <td>...</td>\n",
       "      <td>中国心衰中心数据填报平台</td>\n",
       "      <td>87323ebbef4111e8b9c4509a4c868a0c</td>\n",
       "      <td>NaN</td>\n",
       "      <td>NaN</td>\n",
       "      <td>NaN</td>\n",
       "      <td>NaN</td>\n",
       "      <td>NaN</td>\n",
       "      <td>NaN</td>\n",
       "      <td>NaN</td>\n",
       "      <td>NaN</td>\n",
       "    </tr>\n",
       "    <tr>\n",
       "      <th>3</th>\n",
       "      <td>8177b4f1-32ca-11ea-a691-d9abf2838a50</td>\n",
       "      <td>6949cb1efbd711e98f28509a4c82024b</td>\n",
       "      <td>ca3630e8b8854bc13994a74680ece105</td>\n",
       "      <td>d92054fa6dc0a31793e9b254abb6e4d0</td>\n",
       "      <td>47</td>\n",
       "      <td>262</td>\n",
       "      <td>1</td>\n",
       "      <td>e0069240-32c3-11ea-a691-d9abf2838a50</td>\n",
       "      <td>tbxt</td>\n",
       "      <td>6949cb1efbd711e98f28509a4c82024b</td>\n",
       "      <td>...</td>\n",
       "      <td>中国心衰中心数据填报平台</td>\n",
       "      <td>692601a8fbd711e98f28509a4c82024b</td>\n",
       "      <td>NaN</td>\n",
       "      <td>NaN</td>\n",
       "      <td>NaN</td>\n",
       "      <td>NaN</td>\n",
       "      <td>NaN</td>\n",
       "      <td>NaN</td>\n",
       "      <td>NaN</td>\n",
       "      <td>NaN</td>\n",
       "    </tr>\n",
       "    <tr>\n",
       "      <th>4</th>\n",
       "      <td>3959aee1-1023-11ea-9e0b-330dfb01131e</td>\n",
       "      <td>014d68ae9e7e11e98e63509a4c82024b</td>\n",
       "      <td>0001491d8a76be51aafcd0ae94250098</td>\n",
       "      <td>771651bec615e2c276b0e04e12901d10</td>\n",
       "      <td>47</td>\n",
       "      <td>262</td>\n",
       "      <td>1</td>\n",
       "      <td>e369f1f1-b2a5-11e9-bfc1-1d5141e92ecf</td>\n",
       "      <td>tbxt</td>\n",
       "      <td>014d68ae9e7e11e98e63509a4c82024b</td>\n",
       "      <td>...</td>\n",
       "      <td>中国心衰中心数据填报平台</td>\n",
       "      <td>NaN</td>\n",
       "      <td>NaN</td>\n",
       "      <td>NaN</td>\n",
       "      <td>NaN</td>\n",
       "      <td>NaN</td>\n",
       "      <td>NaN</td>\n",
       "      <td>NaN</td>\n",
       "      <td>NaN</td>\n",
       "      <td>NaN</td>\n",
       "    </tr>\n",
       "  </tbody>\n",
       "</table>\n",
       "<p>5 rows × 39 columns</p>\n",
       "</div>"
      ],
      "text/plain": [
       "                                    _id                      oldHistoryId  \\\n",
       "0  55ab2cd1-1024-11ea-a7d9-d1a8c1532bf1  72fdec75018711e99d03509a4c82024b   \n",
       "1  0ffc7580-86a5-11e9-affe-8d50ca0b1a6b  87388a71ef4111e8b9c4509a4c868a0c   \n",
       "2  267f3ef1-86a5-11e9-affe-8d50ca0b1a6b  9127ac2811d411e9b99a509a4c868a0c   \n",
       "3  8177b4f1-32ca-11ea-a691-d9abf2838a50  6949cb1efbd711e98f28509a4c82024b   \n",
       "4  3959aee1-1023-11ea-9e0b-330dfb01131e  014d68ae9e7e11e98e63509a4c82024b   \n",
       "\n",
       "                    globalPatientId                   globalHistoryId  \\\n",
       "0  00009f2317d433c50aea0c6840327e52  d7693d04bb65e9cfa3c50891f76ca204   \n",
       "1  0000fbc3bc845017df1c05471abc7445  b2748d869dd7bc8bf1f1001e2960bca1   \n",
       "2  0000fbc3bc845017df1c05471abc7445  2d07ed4d6f95218256f5c43f9a868e4a   \n",
       "3  ca3630e8b8854bc13994a74680ece105  d92054fa6dc0a31793e9b254abb6e4d0   \n",
       "4  0001491d8a76be51aafcd0ae94250098  771651bec615e2c276b0e04e12901d10   \n",
       "\n",
       "   diseaseId  hospitalId  deptId                             historyId  \\\n",
       "0         47         262       1  0737bf41-b2a6-11e9-bfc1-1d5141e92ecf   \n",
       "1         47         618       1      b2748d869dd7bc8bf1f1001e2960bca1   \n",
       "2         47         618       1      2d07ed4d6f95218256f5c43f9a868e4a   \n",
       "3         47         262       1  e0069240-32c3-11ea-a691-d9abf2838a50   \n",
       "4         47         262       1  e369f1f1-b2a5-11e9-bfc1-1d5141e92ecf   \n",
       "\n",
       "  sourceCode                          sourceId  ...   diseaseName  \\\n",
       "0       tbxt  72fdec75018711e99d03509a4c82024b  ...  中国心衰中心数据填报平台   \n",
       "1        etl  87388a71ef4111e8b9c4509a4c868a0c  ...  中国心衰中心数据填报平台   \n",
       "2        etl  9127ac2811d411e9b99a509a4c868a0c  ...  中国心衰中心数据填报平台   \n",
       "3       tbxt  6949cb1efbd711e98f28509a4c82024b  ...  中国心衰中心数据填报平台   \n",
       "4       tbxt  014d68ae9e7e11e98e63509a4c82024b  ...  中国心衰中心数据填报平台   \n",
       "\n",
       "                       oldPatientId cur_es  diseaseCode maxs  _verify  \\\n",
       "0                               NaN    NaN          NaN  NaN      NaN   \n",
       "1  87323ebbef4111e8b9c4509a4c868a0c    NaN          NaN  NaN      NaN   \n",
       "2  87323ebbef4111e8b9c4509a4c868a0c    NaN          NaN  NaN      NaN   \n",
       "3  692601a8fbd711e98f28509a4c82024b    NaN          NaN  NaN      NaN   \n",
       "4                               NaN    NaN          NaN  NaN      NaN   \n",
       "\n",
       "   patientBasicInfoTelNumber _delete  rc4 doctorId  \n",
       "0                        NaN     NaN  NaN      NaN  \n",
       "1                        NaN     NaN  NaN      NaN  \n",
       "2                        NaN     NaN  NaN      NaN  \n",
       "3                        NaN     NaN  NaN      NaN  \n",
       "4                        NaN     NaN  NaN      NaN  \n",
       "\n",
       "[5 rows x 39 columns]"
      ]
     },
     "execution_count": 73,
     "metadata": {},
     "output_type": "execute_result"
    }
   ],
   "source": [
    "doc_filter = dict(patient_filter)\n",
    "doc_filter['diseaseId'] = 47\n",
    "doc_filter['$or'] = [{'_delete':{'$exists':False}},{'_delete':False}]\n",
    "docinfo_df = pd.DataFrame(list(doc_info.find(doc_filter)))\n",
    "docinfo_df.head()"
   ]
  },
  {
   "cell_type": "code",
   "execution_count": 45,
   "metadata": {},
   "outputs": [
    {
     "data": {
      "text/plain": [
       "_id                                93293\n",
       "patientBasicInfoPatientUserName    93293\n",
       "patientBasicInfoIdCard             89929\n",
       "patientBasicInfoGender             93288\n",
       "patientBasicInfoBirthday           90537\n",
       "patientId                          93293\n",
       "dtype: int64"
      ]
     },
     "execution_count": 45,
     "metadata": {},
     "output_type": "execute_result"
    }
   ],
   "source": [
    "patient_pd.count()"
   ]
  },
  {
   "cell_type": "code",
   "execution_count": 47,
   "metadata": {},
   "outputs": [],
   "source": [
    "patient_pd.to_csv('心衰上报患者.csv')"
   ]
  },
  {
   "cell_type": "code",
   "execution_count": 50,
   "metadata": {},
   "outputs": [
    {
     "data": {
      "text/plain": [
       "_id                                90534\n",
       "patientBasicInfoPatientUserName    90534\n",
       "patientBasicInfoIdCard             87172\n",
       "patientBasicInfoGender             90534\n",
       "patientBasicInfoBirthday           90534\n",
       "patientId                          90534\n",
       "dtype: int64"
      ]
     },
     "execution_count": 50,
     "metadata": {},
     "output_type": "execute_result"
    }
   ],
   "source": [
    "# 包含 姓名 性别 出生日期的\n",
    "patient_pd.loc[(patient_pd.patientBasicInfoPatientUserName.notnull()) & (patient_pd.patientBasicInfoGender.notnull()) & (patient_pd.patientBasicInfoBirthday.notnull())].count()"
   ]
  },
  {
   "cell_type": "code",
   "execution_count": 60,
   "metadata": {},
   "outputs": [
    {
     "data": {
      "text/plain": [
       "_id                                3362\n",
       "patientBasicInfoPatientUserName    3362\n",
       "patientBasicInfoIdCard                0\n",
       "patientBasicInfoGender             3362\n",
       "patientBasicInfoBirthday           3362\n",
       "patientId                          3362\n",
       "dtype: int64"
      ]
     },
     "execution_count": 60,
     "metadata": {},
     "output_type": "execute_result"
    }
   ],
   "source": [
    "patient_pd.loc[(patient_pd.patientBasicInfoIdCard.isnull()) & (patient_pd.patientBasicInfoPatientUserName.notnull()) & (patient_pd.patientBasicInfoGender.notnull()) & (patient_pd.patientBasicInfoBirthday.notnull())].count()"
   ]
  },
  {
   "cell_type": "code",
   "execution_count": 51,
   "metadata": {},
   "outputs": [],
   "source": [
    "# 排除IDcard不正确的"
   ]
  },
  {
   "cell_type": "code",
   "execution_count": null,
   "metadata": {},
   "outputs": [],
   "source": []
  },
  {
   "cell_type": "code",
   "execution_count": 52,
   "metadata": {},
   "outputs": [],
   "source": [
    "import pymysql"
   ]
  },
  {
   "cell_type": "code",
   "execution_count": 53,
   "metadata": {},
   "outputs": [],
   "source": [
    "conn = pymysql.connect(host='10.10.10.32', port=3306, user='root', password='root', db='platform_patientindex', charset='utf8',cursorclass=pymysql.cursors.DictCursor)"
   ]
  },
  {
   "cell_type": "code",
   "execution_count": 55,
   "metadata": {},
   "outputs": [],
   "source": [
    "fix_idcard_df = pd.read_sql_query(\"select * from index_failover_center\", conn)"
   ]
  },
  {
   "cell_type": "code",
   "execution_count": 56,
   "metadata": {},
   "outputs": [
    {
     "data": {
      "text/html": [
       "<div>\n",
       "<style scoped>\n",
       "    .dataframe tbody tr th:only-of-type {\n",
       "        vertical-align: middle;\n",
       "    }\n",
       "\n",
       "    .dataframe tbody tr th {\n",
       "        vertical-align: top;\n",
       "    }\n",
       "\n",
       "    .dataframe thead th {\n",
       "        text-align: right;\n",
       "    }\n",
       "</style>\n",
       "<table border=\"1\" class=\"dataframe\">\n",
       "  <thead>\n",
       "    <tr style=\"text-align: right;\">\n",
       "      <th></th>\n",
       "      <th>id</th>\n",
       "      <th>create_time</th>\n",
       "      <th>update_time</th>\n",
       "      <th>crypto_text</th>\n",
       "      <th>plain_text</th>\n",
       "    </tr>\n",
       "  </thead>\n",
       "  <tbody>\n",
       "    <tr>\n",
       "      <th>0</th>\n",
       "      <td>00441aabaca2bcecf8870680ea529037</td>\n",
       "      <td>2019-12-26 18:25:52</td>\n",
       "      <td>2019-12-26 18:25:52</td>\n",
       "      <td>06409663226af2f3114485aa4e0a23b4</td>\n",
       "      <td>158</td>\n",
       "    </tr>\n",
       "    <tr>\n",
       "      <th>1</th>\n",
       "      <td>00cf83a98f46fcf7066ed01f72a562f5</td>\n",
       "      <td>2019-12-26 18:25:52</td>\n",
       "      <td>2019-12-26 18:25:52</td>\n",
       "      <td>1eac12f6683635318966bdff19deb7df</td>\n",
       "      <td>未有</td>\n",
       "    </tr>\n",
       "    <tr>\n",
       "      <th>2</th>\n",
       "      <td>0129210c45d40afba018329aa66ceed6</td>\n",
       "      <td>2019-12-26 18:25:52</td>\n",
       "      <td>2019-12-26 18:25:52</td>\n",
       "      <td>56521b4d2824c0cb09bb240f8461acad</td>\n",
       "      <td>326598</td>\n",
       "    </tr>\n",
       "    <tr>\n",
       "      <th>3</th>\n",
       "      <td>0195b53711609d4ae26b0bcbe713fa28</td>\n",
       "      <td>2019-12-26 18:25:52</td>\n",
       "      <td>2019-12-26 18:25:52</td>\n",
       "      <td>fb21b421091fdad755f4eba24d8f8946</td>\n",
       "      <td>56655656</td>\n",
       "    </tr>\n",
       "    <tr>\n",
       "      <th>4</th>\n",
       "      <td>0220bead89567f2d67506e9bf61426b7</td>\n",
       "      <td>2019-12-26 18:25:52</td>\n",
       "      <td>2019-12-26 18:25:52</td>\n",
       "      <td>e3ceb5881a0a1fdaad01296d7554868d</td>\n",
       "      <td>222222</td>\n",
       "    </tr>\n",
       "  </tbody>\n",
       "</table>\n",
       "</div>"
      ],
      "text/plain": [
       "                                 id         create_time         update_time  \\\n",
       "0  00441aabaca2bcecf8870680ea529037 2019-12-26 18:25:52 2019-12-26 18:25:52   \n",
       "1  00cf83a98f46fcf7066ed01f72a562f5 2019-12-26 18:25:52 2019-12-26 18:25:52   \n",
       "2  0129210c45d40afba018329aa66ceed6 2019-12-26 18:25:52 2019-12-26 18:25:52   \n",
       "3  0195b53711609d4ae26b0bcbe713fa28 2019-12-26 18:25:52 2019-12-26 18:25:52   \n",
       "4  0220bead89567f2d67506e9bf61426b7 2019-12-26 18:25:52 2019-12-26 18:25:52   \n",
       "\n",
       "                        crypto_text plain_text  \n",
       "0  06409663226af2f3114485aa4e0a23b4        158  \n",
       "1  1eac12f6683635318966bdff19deb7df         未有  \n",
       "2  56521b4d2824c0cb09bb240f8461acad     326598  \n",
       "3  fb21b421091fdad755f4eba24d8f8946   56655656  \n",
       "4  e3ceb5881a0a1fdaad01296d7554868d     222222  "
      ]
     },
     "execution_count": 56,
     "metadata": {},
     "output_type": "execute_result"
    }
   ],
   "source": [
    "fix_idcard_df.head()"
   ]
  },
  {
   "cell_type": "code",
   "execution_count": 58,
   "metadata": {},
   "outputs": [
    {
     "data": {
      "text/plain": [
       "_id                                91636\n",
       "patientBasicInfoPatientUserName    91636\n",
       "patientBasicInfoIdCard             88272\n",
       "patientBasicInfoGender             91631\n",
       "patientBasicInfoBirthday           88889\n",
       "patientId                          91636\n",
       "dtype: int64"
      ]
     },
     "execution_count": 58,
     "metadata": {},
     "output_type": "execute_result"
    }
   ],
   "source": [
    "# 不在idcard中的\n",
    "patient_pd.loc[-patient_pd.patientBasicInfoIdCard.isin(fix_idcard_df.crypto_text.values.tolist())].count()"
   ]
  },
  {
   "cell_type": "code",
   "execution_count": 67,
   "metadata": {},
   "outputs": [
    {
     "data": {
      "text/html": [
       "<div>\n",
       "<style scoped>\n",
       "    .dataframe tbody tr th:only-of-type {\n",
       "        vertical-align: middle;\n",
       "    }\n",
       "\n",
       "    .dataframe tbody tr th {\n",
       "        vertical-align: top;\n",
       "    }\n",
       "\n",
       "    .dataframe thead th {\n",
       "        text-align: right;\n",
       "    }\n",
       "</style>\n",
       "<table border=\"1\" class=\"dataframe\">\n",
       "  <thead>\n",
       "    <tr style=\"text-align: right;\">\n",
       "      <th></th>\n",
       "      <th>_id</th>\n",
       "      <th>patientBasicInfoPatientUserName</th>\n",
       "      <th>patientBasicInfoIdCard</th>\n",
       "      <th>patientBasicInfoGender</th>\n",
       "      <th>patientBasicInfoBirthday</th>\n",
       "      <th>patientId</th>\n",
       "    </tr>\n",
       "  </thead>\n",
       "  <tbody>\n",
       "    <tr>\n",
       "      <th>2</th>\n",
       "      <td>0001491d8a76be51aafcd0ae94250098</td>\n",
       "      <td>026a85fa600b04b6230ed82ec910117e</td>\n",
       "      <td>11ea8159cb60cc5b0b149ac83f256640</td>\n",
       "      <td>男</td>\n",
       "      <td>-354614400000.0</td>\n",
       "      <td>0001491d8a76be51aafcd0ae94250098</td>\n",
       "    </tr>\n",
       "    <tr>\n",
       "      <th>58</th>\n",
       "      <td>00288531-f151-11e7-866f-b9d01e432bdb</td>\n",
       "      <td>e8dc1577ae4368d63bbd83f337ec86db</td>\n",
       "      <td>NaN</td>\n",
       "      <td>女</td>\n",
       "      <td>-1365148800000.0</td>\n",
       "      <td>00288531-f151-11e7-866f-b9d01e432bdb</td>\n",
       "    </tr>\n",
       "    <tr>\n",
       "      <th>67</th>\n",
       "      <td>002d9678bd490f03d3f03f2669542ace</td>\n",
       "      <td>b097da8688606998005bc572998fd2d5</td>\n",
       "      <td>a6b008e69f9ad0d547837686f6b1f1cd</td>\n",
       "      <td>男</td>\n",
       "      <td>-328176000000.0</td>\n",
       "      <td>002d9678bd490f03d3f03f2669542ace</td>\n",
       "    </tr>\n",
       "    <tr>\n",
       "      <th>69</th>\n",
       "      <td>002de2d1-4126-11e8-8cfe-8fb33112142e</td>\n",
       "      <td>1e30ac70ec293fcb7453ef627f94fa16</td>\n",
       "      <td>11ea8159cb60cc5b0b149ac83f256640</td>\n",
       "      <td>女</td>\n",
       "      <td>-831196800000.0</td>\n",
       "      <td>002de2d1-4126-11e8-8cfe-8fb33112142e</td>\n",
       "    </tr>\n",
       "    <tr>\n",
       "      <th>82</th>\n",
       "      <td>00351256aa360150c99634ba5131ca22</td>\n",
       "      <td>9a6c3f87a6b847de65cfc1edbc0bb871</td>\n",
       "      <td>a6b008e69f9ad0d547837686f6b1f1cd</td>\n",
       "      <td>男</td>\n",
       "      <td>-492681600000.0</td>\n",
       "      <td>00351256aa360150c99634ba5131ca22</td>\n",
       "    </tr>\n",
       "  </tbody>\n",
       "</table>\n",
       "</div>"
      ],
      "text/plain": [
       "                                     _id   patientBasicInfoPatientUserName  \\\n",
       "2       0001491d8a76be51aafcd0ae94250098  026a85fa600b04b6230ed82ec910117e   \n",
       "58  00288531-f151-11e7-866f-b9d01e432bdb  e8dc1577ae4368d63bbd83f337ec86db   \n",
       "67      002d9678bd490f03d3f03f2669542ace  b097da8688606998005bc572998fd2d5   \n",
       "69  002de2d1-4126-11e8-8cfe-8fb33112142e  1e30ac70ec293fcb7453ef627f94fa16   \n",
       "82      00351256aa360150c99634ba5131ca22  9a6c3f87a6b847de65cfc1edbc0bb871   \n",
       "\n",
       "              patientBasicInfoIdCard patientBasicInfoGender  \\\n",
       "2   11ea8159cb60cc5b0b149ac83f256640                      男   \n",
       "58                               NaN                      女   \n",
       "67  a6b008e69f9ad0d547837686f6b1f1cd                      男   \n",
       "69  11ea8159cb60cc5b0b149ac83f256640                      女   \n",
       "82  a6b008e69f9ad0d547837686f6b1f1cd                      男   \n",
       "\n",
       "   patientBasicInfoBirthday                             patientId  \n",
       "2           -354614400000.0      0001491d8a76be51aafcd0ae94250098  \n",
       "58         -1365148800000.0  00288531-f151-11e7-866f-b9d01e432bdb  \n",
       "67          -328176000000.0      002d9678bd490f03d3f03f2669542ace  \n",
       "69          -831196800000.0  002de2d1-4126-11e8-8cfe-8fb33112142e  \n",
       "82          -492681600000.0      00351256aa360150c99634ba5131ca22  "
      ]
     },
     "execution_count": 67,
     "metadata": {},
     "output_type": "execute_result"
    }
   ],
   "source": [
    "# 没有身份中号的患者\n",
    "noidcard_df = patient_pd.loc[patient_pd.patientBasicInfoIdCard.isnull()|patient_pd.patientBasicInfoIdCard.isin(fix_idcard_df.crypto_text.values.tolist())]\n",
    "noidcard_df.head()"
   ]
  },
  {
   "cell_type": "code",
   "execution_count": 69,
   "metadata": {},
   "outputs": [
    {
     "data": {
      "text/plain": [
       "_id                                5021\n",
       "patientBasicInfoPatientUserName    5021\n",
       "patientBasicInfoIdCard             1657\n",
       "patientBasicInfoGender             5021\n",
       "patientBasicInfoBirthday           5010\n",
       "patientId                          5021\n",
       "dtype: int64"
      ]
     },
     "execution_count": 69,
     "metadata": {},
     "output_type": "execute_result"
    }
   ],
   "source": [
    "noidcard_df.count()"
   ]
  },
  {
   "cell_type": "code",
   "execution_count": 76,
   "metadata": {},
   "outputs": [],
   "source": [
    "# 没有身份证号的按医院分布\n",
    "noidcardhospital_df = docinfo_df.loc[docinfo_df.patientId.isin(noidcard_df.patientId.values.tolist())]"
   ]
  },
  {
   "cell_type": "code",
   "execution_count": 104,
   "metadata": {},
   "outputs": [],
   "source": [
    "hospital_g = noidcardhospital_df[['hospitalId','patientId']].groupby('hospitalId').count().apply(lambda x:x.sort_values(ascending=False)).reset_index()"
   ]
  },
  {
   "cell_type": "code",
   "execution_count": 121,
   "metadata": {},
   "outputs": [
    {
     "data": {
      "text/html": [
       "<div>\n",
       "<style scoped>\n",
       "    .dataframe tbody tr th:only-of-type {\n",
       "        vertical-align: middle;\n",
       "    }\n",
       "\n",
       "    .dataframe tbody tr th {\n",
       "        vertical-align: top;\n",
       "    }\n",
       "\n",
       "    .dataframe thead th {\n",
       "        text-align: right;\n",
       "    }\n",
       "</style>\n",
       "<table border=\"1\" class=\"dataframe\">\n",
       "  <thead>\n",
       "    <tr style=\"text-align: right;\">\n",
       "      <th></th>\n",
       "      <th>hospitalId</th>\n",
       "      <th>patientId</th>\n",
       "    </tr>\n",
       "  </thead>\n",
       "  <tbody>\n",
       "    <tr>\n",
       "      <th>0</th>\n",
       "      <td>262</td>\n",
       "      <td>4396</td>\n",
       "    </tr>\n",
       "    <tr>\n",
       "      <th>1</th>\n",
       "      <td>346</td>\n",
       "      <td>4250</td>\n",
       "    </tr>\n",
       "    <tr>\n",
       "      <th>2</th>\n",
       "      <td>140</td>\n",
       "      <td>4019</td>\n",
       "    </tr>\n",
       "    <tr>\n",
       "      <th>3</th>\n",
       "      <td>677</td>\n",
       "      <td>3159</td>\n",
       "    </tr>\n",
       "    <tr>\n",
       "      <th>4</th>\n",
       "      <td>323</td>\n",
       "      <td>3066</td>\n",
       "    </tr>\n",
       "  </tbody>\n",
       "</table>\n",
       "</div>"
      ],
      "text/plain": [
       "   hospitalId  patientId\n",
       "0         262       4396\n",
       "1         346       4250\n",
       "2         140       4019\n",
       "3         677       3159\n",
       "4         323       3066"
      ]
     },
     "execution_count": 121,
     "metadata": {},
     "output_type": "execute_result"
    }
   ],
   "source": [
    "hospital_df = docinfo_df[['hospitalId','patientId']].groupby('hospitalId').count().apply(lambda x:x.sort_values(ascending=False)).reset_index()\n",
    "hospital_df.head()"
   ]
  },
  {
   "cell_type": "code",
   "execution_count": 105,
   "metadata": {},
   "outputs": [
    {
     "data": {
      "text/html": [
       "<div>\n",
       "<style scoped>\n",
       "    .dataframe tbody tr th:only-of-type {\n",
       "        vertical-align: middle;\n",
       "    }\n",
       "\n",
       "    .dataframe tbody tr th {\n",
       "        vertical-align: top;\n",
       "    }\n",
       "\n",
       "    .dataframe thead th {\n",
       "        text-align: right;\n",
       "    }\n",
       "</style>\n",
       "<table border=\"1\" class=\"dataframe\">\n",
       "  <thead>\n",
       "    <tr style=\"text-align: right;\">\n",
       "      <th></th>\n",
       "      <th>hospitalId</th>\n",
       "      <th>patientId</th>\n",
       "    </tr>\n",
       "  </thead>\n",
       "  <tbody>\n",
       "    <tr>\n",
       "      <th>0</th>\n",
       "      <td>17</td>\n",
       "      <td>2001</td>\n",
       "    </tr>\n",
       "    <tr>\n",
       "      <th>1</th>\n",
       "      <td>290</td>\n",
       "      <td>1249</td>\n",
       "    </tr>\n",
       "    <tr>\n",
       "      <th>2</th>\n",
       "      <td>730</td>\n",
       "      <td>474</td>\n",
       "    </tr>\n",
       "    <tr>\n",
       "      <th>3</th>\n",
       "      <td>346</td>\n",
       "      <td>384</td>\n",
       "    </tr>\n",
       "    <tr>\n",
       "      <th>4</th>\n",
       "      <td>696</td>\n",
       "      <td>376</td>\n",
       "    </tr>\n",
       "    <tr>\n",
       "      <th>...</th>\n",
       "      <td>...</td>\n",
       "      <td>...</td>\n",
       "    </tr>\n",
       "    <tr>\n",
       "      <th>69</th>\n",
       "      <td>217</td>\n",
       "      <td>1</td>\n",
       "    </tr>\n",
       "    <tr>\n",
       "      <th>70</th>\n",
       "      <td>723</td>\n",
       "      <td>1</td>\n",
       "    </tr>\n",
       "    <tr>\n",
       "      <th>71</th>\n",
       "      <td>276</td>\n",
       "      <td>1</td>\n",
       "    </tr>\n",
       "    <tr>\n",
       "      <th>72</th>\n",
       "      <td>715</td>\n",
       "      <td>1</td>\n",
       "    </tr>\n",
       "    <tr>\n",
       "      <th>73</th>\n",
       "      <td>211</td>\n",
       "      <td>1</td>\n",
       "    </tr>\n",
       "  </tbody>\n",
       "</table>\n",
       "<p>74 rows × 2 columns</p>\n",
       "</div>"
      ],
      "text/plain": [
       "    hospitalId  patientId\n",
       "0           17       2001\n",
       "1          290       1249\n",
       "2          730        474\n",
       "3          346        384\n",
       "4          696        376\n",
       "..         ...        ...\n",
       "69         217          1\n",
       "70         723          1\n",
       "71         276          1\n",
       "72         715          1\n",
       "73         211          1\n",
       "\n",
       "[74 rows x 2 columns]"
      ]
     },
     "execution_count": 105,
     "metadata": {},
     "output_type": "execute_result"
    }
   ],
   "source": [
    "hospital_g"
   ]
  },
  {
   "cell_type": "markdown",
   "metadata": {},
   "source": [
    "## 结论\n",
    "上报患者总数：93292  \n",
    "有身份证的：88272  \n",
    "姓名+性别+出生日期：90534  \n",
    "没有身份证号有 姓名+性别+出生日期：3362\n",
    "\n",
    "没有身份证号：5021"
   ]
  },
  {
   "cell_type": "code",
   "execution_count": 106,
   "metadata": {},
   "outputs": [],
   "source": [
    "hospital_g.to_csv('没有身份证号医院分布.csv')"
   ]
  },
  {
   "cell_type": "code",
   "execution_count": 111,
   "metadata": {},
   "outputs": [
    {
     "data": {
      "text/html": [
       "<div>\n",
       "<style scoped>\n",
       "    .dataframe tbody tr th:only-of-type {\n",
       "        vertical-align: middle;\n",
       "    }\n",
       "\n",
       "    .dataframe tbody tr th {\n",
       "        vertical-align: top;\n",
       "    }\n",
       "\n",
       "    .dataframe thead th {\n",
       "        text-align: right;\n",
       "    }\n",
       "</style>\n",
       "<table border=\"1\" class=\"dataframe\">\n",
       "  <thead>\n",
       "    <tr style=\"text-align: right;\">\n",
       "      <th></th>\n",
       "      <th>hospitalId</th>\n",
       "      <th>patientId</th>\n",
       "    </tr>\n",
       "  </thead>\n",
       "  <tbody>\n",
       "    <tr>\n",
       "      <th>0</th>\n",
       "      <td>17</td>\n",
       "      <td>2001</td>\n",
       "    </tr>\n",
       "    <tr>\n",
       "      <th>1</th>\n",
       "      <td>290</td>\n",
       "      <td>1249</td>\n",
       "    </tr>\n",
       "    <tr>\n",
       "      <th>2</th>\n",
       "      <td>730</td>\n",
       "      <td>474</td>\n",
       "    </tr>\n",
       "    <tr>\n",
       "      <th>3</th>\n",
       "      <td>346</td>\n",
       "      <td>384</td>\n",
       "    </tr>\n",
       "    <tr>\n",
       "      <th>4</th>\n",
       "      <td>696</td>\n",
       "      <td>376</td>\n",
       "    </tr>\n",
       "  </tbody>\n",
       "</table>\n",
       "</div>"
      ],
      "text/plain": [
       "   hospitalId  patientId\n",
       "0          17       2001\n",
       "1         290       1249\n",
       "2         730        474\n",
       "3         346        384\n",
       "4         696        376"
      ]
     },
     "execution_count": 111,
     "metadata": {},
     "output_type": "execute_result"
    }
   ],
   "source": [
    "hospital_g.head()"
   ]
  },
  {
   "cell_type": "code",
   "execution_count": 107,
   "metadata": {},
   "outputs": [],
   "source": [
    "conn2 = pymysql.connect(host='10.10.10.13', port=3306, user='root', password='root', db='emdata', charset='utf8',cursorclass=pymysql.cursors.DictCursor)"
   ]
  },
  {
   "cell_type": "code",
   "execution_count": 110,
   "metadata": {},
   "outputs": [
    {
     "data": {
      "text/html": [
       "<div>\n",
       "<style scoped>\n",
       "    .dataframe tbody tr th:only-of-type {\n",
       "        vertical-align: middle;\n",
       "    }\n",
       "\n",
       "    .dataframe tbody tr th {\n",
       "        vertical-align: top;\n",
       "    }\n",
       "\n",
       "    .dataframe thead th {\n",
       "        text-align: right;\n",
       "    }\n",
       "</style>\n",
       "<table border=\"1\" class=\"dataframe\">\n",
       "  <thead>\n",
       "    <tr style=\"text-align: right;\">\n",
       "      <th></th>\n",
       "      <th>id</th>\n",
       "      <th>name</th>\n",
       "    </tr>\n",
       "  </thead>\n",
       "  <tbody>\n",
       "    <tr>\n",
       "      <th>0</th>\n",
       "      <td>2</td>\n",
       "      <td>协和医院</td>\n",
       "    </tr>\n",
       "    <tr>\n",
       "      <th>1</th>\n",
       "      <td>3</td>\n",
       "      <td>待审核医院</td>\n",
       "    </tr>\n",
       "    <tr>\n",
       "      <th>2</th>\n",
       "      <td>7</td>\n",
       "      <td>太原市中心医院</td>\n",
       "    </tr>\n",
       "    <tr>\n",
       "      <th>3</th>\n",
       "      <td>8</td>\n",
       "      <td>山西大医院</td>\n",
       "    </tr>\n",
       "    <tr>\n",
       "      <th>4</th>\n",
       "      <td>9</td>\n",
       "      <td>中日友好医院</td>\n",
       "    </tr>\n",
       "  </tbody>\n",
       "</table>\n",
       "</div>"
      ],
      "text/plain": [
       "   id     name\n",
       "0   2     协和医院\n",
       "1   3    待审核医院\n",
       "2   7  太原市中心医院\n",
       "3   8    山西大医院\n",
       "4   9   中日友好医院"
      ]
     },
     "execution_count": 110,
     "metadata": {},
     "output_type": "execute_result"
    }
   ],
   "source": [
    "hospitalinfo_df = pd.read_sql_query(\"select id,name from pr_hospital_info\", conn2)\n",
    "hospitalinfo_df.head()"
   ]
  },
  {
   "cell_type": "code",
   "execution_count": 115,
   "metadata": {},
   "outputs": [
    {
     "data": {
      "text/html": [
       "<div>\n",
       "<style scoped>\n",
       "    .dataframe tbody tr th:only-of-type {\n",
       "        vertical-align: middle;\n",
       "    }\n",
       "\n",
       "    .dataframe tbody tr th {\n",
       "        vertical-align: top;\n",
       "    }\n",
       "\n",
       "    .dataframe thead th {\n",
       "        text-align: right;\n",
       "    }\n",
       "</style>\n",
       "<table border=\"1\" class=\"dataframe\">\n",
       "  <thead>\n",
       "    <tr style=\"text-align: right;\">\n",
       "      <th></th>\n",
       "      <th>id</th>\n",
       "      <th>name</th>\n",
       "    </tr>\n",
       "  </thead>\n",
       "  <tbody>\n",
       "    <tr>\n",
       "      <th>2</th>\n",
       "      <td>7</td>\n",
       "      <td>太原市中心医院</td>\n",
       "    </tr>\n",
       "    <tr>\n",
       "      <th>8</th>\n",
       "      <td>15</td>\n",
       "      <td>南京医科大学第一附属医院(江苏省人民医院)</td>\n",
       "    </tr>\n",
       "    <tr>\n",
       "      <th>10</th>\n",
       "      <td>17</td>\n",
       "      <td>重庆医科大学附属第一医院</td>\n",
       "    </tr>\n",
       "    <tr>\n",
       "      <th>18</th>\n",
       "      <td>25</td>\n",
       "      <td>苏州大学附属第二医院</td>\n",
       "    </tr>\n",
       "    <tr>\n",
       "      <th>21</th>\n",
       "      <td>28</td>\n",
       "      <td>无锡市第三人民医院</td>\n",
       "    </tr>\n",
       "  </tbody>\n",
       "</table>\n",
       "</div>"
      ],
      "text/plain": [
       "    id                   name\n",
       "2    7                太原市中心医院\n",
       "8   15  南京医科大学第一附属医院(江苏省人民医院)\n",
       "10  17           重庆医科大学附属第一医院\n",
       "18  25             苏州大学附属第二医院\n",
       "21  28              无锡市第三人民医院"
      ]
     },
     "execution_count": 115,
     "metadata": {},
     "output_type": "execute_result"
    }
   ],
   "source": [
    "nohospitalinfo_df = hospitalinfo_df.loc[hospitalinfo_df.id.isin(hospital_g.hospitalId.values.tolist())]\n",
    "nohospitalinfo_df.head()"
   ]
  },
  {
   "cell_type": "code",
   "execution_count": 119,
   "metadata": {},
   "outputs": [
    {
     "data": {
      "text/html": [
       "<div>\n",
       "<style scoped>\n",
       "    .dataframe tbody tr th:only-of-type {\n",
       "        vertical-align: middle;\n",
       "    }\n",
       "\n",
       "    .dataframe tbody tr th {\n",
       "        vertical-align: top;\n",
       "    }\n",
       "\n",
       "    .dataframe thead th {\n",
       "        text-align: right;\n",
       "    }\n",
       "</style>\n",
       "<table border=\"1\" class=\"dataframe\">\n",
       "  <thead>\n",
       "    <tr style=\"text-align: right;\">\n",
       "      <th></th>\n",
       "      <th>hospitalId</th>\n",
       "      <th>patientId</th>\n",
       "      <th>name</th>\n",
       "    </tr>\n",
       "  </thead>\n",
       "  <tbody>\n",
       "    <tr>\n",
       "      <th>0</th>\n",
       "      <td>17</td>\n",
       "      <td>2001</td>\n",
       "      <td>重庆医科大学附属第一医院</td>\n",
       "    </tr>\n",
       "    <tr>\n",
       "      <th>1</th>\n",
       "      <td>290</td>\n",
       "      <td>1249</td>\n",
       "      <td>吉林大学第三医院（吉林大学中日联谊医院）</td>\n",
       "    </tr>\n",
       "    <tr>\n",
       "      <th>2</th>\n",
       "      <td>730</td>\n",
       "      <td>474</td>\n",
       "      <td>哈尔滨市第一医院</td>\n",
       "    </tr>\n",
       "    <tr>\n",
       "      <th>3</th>\n",
       "      <td>346</td>\n",
       "      <td>384</td>\n",
       "      <td>武汉大学人民医院（湖北省人民医院）</td>\n",
       "    </tr>\n",
       "    <tr>\n",
       "      <th>4</th>\n",
       "      <td>696</td>\n",
       "      <td>376</td>\n",
       "      <td>山西医科大学附属第一医院</td>\n",
       "    </tr>\n",
       "  </tbody>\n",
       "</table>\n",
       "</div>"
      ],
      "text/plain": [
       "   hospitalId  patientId                  name\n",
       "0          17       2001          重庆医科大学附属第一医院\n",
       "1         290       1249  吉林大学第三医院（吉林大学中日联谊医院）\n",
       "2         730        474              哈尔滨市第一医院\n",
       "3         346        384     武汉大学人民医院（湖北省人民医院）\n",
       "4         696        376          山西医科大学附属第一医院"
      ]
     },
     "execution_count": 119,
     "metadata": {},
     "output_type": "execute_result"
    }
   ],
   "source": [
    "hospital_gn = hospital_g.join(nohospitalinfo_df.set_index('id'), on='hospitalId')\n",
    "hospital_gn.head()"
   ]
  },
  {
   "cell_type": "code",
   "execution_count": 120,
   "metadata": {},
   "outputs": [],
   "source": [
    "hospital_gn.to_csv('没有身份证号医院分布.csv')"
   ]
  },
  {
   "cell_type": "code",
   "execution_count": 128,
   "metadata": {},
   "outputs": [
    {
     "data": {
      "text/html": [
       "<div>\n",
       "<style scoped>\n",
       "    .dataframe tbody tr th:only-of-type {\n",
       "        vertical-align: middle;\n",
       "    }\n",
       "\n",
       "    .dataframe tbody tr th {\n",
       "        vertical-align: top;\n",
       "    }\n",
       "\n",
       "    .dataframe thead th {\n",
       "        text-align: right;\n",
       "    }\n",
       "</style>\n",
       "<table border=\"1\" class=\"dataframe\">\n",
       "  <thead>\n",
       "    <tr style=\"text-align: right;\">\n",
       "      <th></th>\n",
       "      <th>hospitalId</th>\n",
       "      <th>patientId_没有身份证</th>\n",
       "      <th>name</th>\n",
       "      <th>patientId_总数</th>\n",
       "    </tr>\n",
       "  </thead>\n",
       "  <tbody>\n",
       "    <tr>\n",
       "      <th>0</th>\n",
       "      <td>17</td>\n",
       "      <td>2001</td>\n",
       "      <td>重庆医科大学附属第一医院</td>\n",
       "      <td>2037</td>\n",
       "    </tr>\n",
       "    <tr>\n",
       "      <th>1</th>\n",
       "      <td>290</td>\n",
       "      <td>1249</td>\n",
       "      <td>吉林大学第三医院（吉林大学中日联谊医院）</td>\n",
       "      <td>1296</td>\n",
       "    </tr>\n",
       "    <tr>\n",
       "      <th>2</th>\n",
       "      <td>730</td>\n",
       "      <td>474</td>\n",
       "      <td>哈尔滨市第一医院</td>\n",
       "      <td>1572</td>\n",
       "    </tr>\n",
       "    <tr>\n",
       "      <th>3</th>\n",
       "      <td>346</td>\n",
       "      <td>384</td>\n",
       "      <td>武汉大学人民医院（湖北省人民医院）</td>\n",
       "      <td>4250</td>\n",
       "    </tr>\n",
       "    <tr>\n",
       "      <th>4</th>\n",
       "      <td>696</td>\n",
       "      <td>376</td>\n",
       "      <td>山西医科大学附属第一医院</td>\n",
       "      <td>695</td>\n",
       "    </tr>\n",
       "  </tbody>\n",
       "</table>\n",
       "</div>"
      ],
      "text/plain": [
       "   hospitalId  patientId_没有身份证                  name  patientId_总数\n",
       "0          17             2001          重庆医科大学附属第一医院          2037\n",
       "1         290             1249  吉林大学第三医院（吉林大学中日联谊医院）          1296\n",
       "2         730              474              哈尔滨市第一医院          1572\n",
       "3         346              384     武汉大学人民医院（湖北省人民医院）          4250\n",
       "4         696              376          山西医科大学附属第一医院           695"
      ]
     },
     "execution_count": 128,
     "metadata": {},
     "output_type": "execute_result"
    }
   ],
   "source": [
    "agn = hospital_gn.join(hospital_df.set_index('hospitalId'), lsuffix='_没有身份证', rsuffix='_总数', on='hospitalId')\n",
    "agn.head()"
   ]
  },
  {
   "cell_type": "code",
   "execution_count": 129,
   "metadata": {},
   "outputs": [],
   "source": [
    "agn.to_csv('没有身份证号医院分布.csv')"
   ]
  },
  {
   "cell_type": "code",
   "execution_count": null,
   "metadata": {},
   "outputs": [],
   "source": []
  }
 ],
 "metadata": {
  "kernelspec": {
   "display_name": "Python 3",
   "language": "python",
   "name": "python3"
  },
  "language_info": {
   "codemirror_mode": {
    "name": "ipython",
    "version": 3
   },
   "file_extension": ".py",
   "mimetype": "text/x-python",
   "name": "python",
   "nbconvert_exporter": "python",
   "pygments_lexer": "ipython3",
   "version": "3.6.5"
  }
 },
 "nbformat": 4,
 "nbformat_minor": 4
}
